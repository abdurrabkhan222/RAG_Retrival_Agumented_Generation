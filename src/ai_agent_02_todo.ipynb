{
 "cells": [
  {
   "cell_type": "markdown",
   "metadata": {},
   "source": [
    "## TODO APPLICATION\n",
    "\n",
    "* We can add todo but with the help of AI.\n",
    "* We can delete todo but with the help of AI.\n",
    "* We can update todo but with the help of AI.\n",
    "* We can read or read particular todo with the help of AI."
   ]
  },
  {
   "cell_type": "markdown",
   "metadata": {},
   "source": [
    "### Import Required Things\n",
    "---"
   ]
  },
  {
   "cell_type": "code",
   "execution_count": 60,
   "metadata": {},
   "outputs": [],
   "source": [
    "from langgraph.graph import StateGraph, START,END\n",
    "from langgraph.graph.message import add_messages\n",
    "from langchain_core.prompts import ChatPromptTemplate, MessagesPlaceholder\n",
    "from langchain_core.messages import SystemMessage, HumanMessage, ToolMessage\n",
    "from langchain_openai import ChatOpenAI\n",
    "from langchain_core.tools import tool\n",
    "from dotenv import load_dotenv\n",
    "from os import getenv\n",
    "from typing import List, Annotated\n",
    "from typing_extensions import TypedDict\n",
    "from bson import ObjectId\n",
    "\n",
    "load_dotenv()\n",
    "\n",
    "DB_URL = getenv(\"MONOGODB_URL\")"
   ]
  },
  {
   "cell_type": "markdown",
   "metadata": {
    "vscode": {
     "languageId": "plaintext"
    }
   },
   "source": [
    "### Setup Database\n",
    "---"
   ]
  },
  {
   "cell_type": "code",
   "execution_count": 14,
   "metadata": {},
   "outputs": [],
   "source": [
    "from pymongo import MongoClient\n",
    "\n",
    "client = MongoClient(DB_URL)\n",
    "\n",
    "db = client[\"agent\"]\n",
    "\n",
    "collection = db[\"todo\"]"
   ]
  },
  {
   "cell_type": "markdown",
   "metadata": {},
   "source": [
    "### Create Prompt Template\n",
    "---"
   ]
  },
  {
   "cell_type": "code",
   "execution_count": 15,
   "metadata": {},
   "outputs": [],
   "source": [
    "prompt_template = ChatPromptTemplate([\n",
    "    SystemMessage(content=\"You are a helpful assistant that take user input based on that call the usable tool.\"),\n",
    "    MessagesPlaceholder(\"messages\")\n",
    "])"
   ]
  },
  {
   "cell_type": "markdown",
   "metadata": {},
   "source": [
    "### Handler Fuctions\n",
    "---"
   ]
  },
  {
   "cell_type": "code",
   "execution_count": null,
   "metadata": {},
   "outputs": [],
   "source": [
    "def insert_document(data: dict | List[dict]) -> bool:\n",
    "    try:\n",
    "        collection.insert_one(data)\n",
    "        return True\n",
    "    except Exception as e:\n",
    "        print(\"An execption occureds during inserting the documents:: \".e)\n",
    "        return False\n",
    "    \n",
    "def delete_documents(ids: dict | List[dict]) -> bool:\n",
    "    try:\n",
    "        collection.delete_many(ids)\n",
    "        return True\n",
    "    except Exception as e:\n",
    "        print(\"An execption occureds during deleting the documents:: \".e)\n",
    "        return False\n",
    "    \n",
    "def get_documents(ids: dict | List[dict]) -> list[dict]:\n",
    "    try:\n",
    "        collection.find(ids)\n",
    "        return True\n",
    "    except Exception as e:\n",
    "        print(\"An exception occured during getting the documents:: \",e)\n",
    "        return False\n",
    "    \n",
    "def update_documents(update: list) -> bool:\n",
    "    try:\n",
    "        collection.bulk_write(update)\n",
    "        return True\n",
    "    except Exception as e:\n",
    "        print(\"An exception occured during update the documents:: \",e)\n",
    "        return False"
   ]
  },
  {
   "cell_type": "code",
   "execution_count": null,
   "metadata": {},
   "outputs": [],
   "source": [
    "from typing import Optional\n",
    "\n",
    "\n",
    "@tool\n",
    "def create_todo(message: dict | List[dict]):\n",
    "    \"\"\" create new todo or todos\n",
    "\n",
    "    Args:\n",
    "        message : str\n",
    "    \"\"\"\n",
    "    collection.insert_one({\"todo\" : message})\n",
    "\n",
    "    return \"sucess\"\n",
    "\n",
    "@tool\n",
    "def delete_todo(todo_id: List[dict] | dict):\n",
    "    \"\"\" delete todo by getting list or id in the form of {\"_id\" : {\"$in\" : [ObjectId(\"id\"),...]}}\n",
    "\n",
    "    Args:\n",
    "        todo_id : str | List[str]\n",
    "    \"\"\"\n",
    "    pass\n",
    "\n",
    "@tool\n",
    "def get_todo(todo_id: Optional[str] = None):\n",
    "    \"\"\" get todos by getting todo ids in the form of dic or list of dict {\"id\": ObjectId(id)}\n",
    "\n",
    "    Args:\n",
    "        todo_id : Optional[str]\n",
    "    \"\"\"\n",
    "    pass\n",
    "\n",
    "@tool\n",
    "def update_todo(updated: list):\n",
    "    \"\"\"update todo by getting id with update value in the form of like that [UpdateOne({\"_id\":ObjectId(\"id)},{\"$set\":{\"todo\":\"update_message\"}})]\n",
    "\n",
    "    Args:\n",
    "        todo_id : str        \n",
    "    \"\"\"\n",
    "    pass\n",
    "\n",
    "tools = [create_todo, delete_todo, get_todo, update_todo]\n",
    "\n",
    "tools_by_name = {tool.name : tool for tool in tools}\n",
    "\n",
    "llm = ChatOpenAI(model= \"gpt-4o-mini\", temperature= 0.3)\n",
    "llm_with_tools = llm.bind_tools(tools)"
   ]
  },
  {
   "cell_type": "markdown",
   "metadata": {},
   "source": [
    "### Creating Workflow schema\n",
    "---"
   ]
  },
  {
   "cell_type": "code",
   "execution_count": null,
   "metadata": {},
   "outputs": [],
   "source": [
    "class State(TypedDict):\n",
    "    messages: Annotated[list,add_messages]"
   ]
  },
  {
   "cell_type": "markdown",
   "metadata": {},
   "source": [
    "### Creating Workflow\n",
    "---"
   ]
  },
  {
   "cell_type": "code",
   "execution_count": null,
   "metadata": {},
   "outputs": [],
   "source": [
    "builder = StateGraph(State)\n",
    "\n"
   ]
  }
 ],
 "metadata": {
  "kernelspec": {
   "display_name": ".venv",
   "language": "python",
   "name": "python3"
  },
  "language_info": {
   "codemirror_mode": {
    "name": "ipython",
    "version": 3
   },
   "file_extension": ".py",
   "mimetype": "text/x-python",
   "name": "python",
   "nbconvert_exporter": "python",
   "pygments_lexer": "ipython3",
   "version": "3.13.0"
  }
 },
 "nbformat": 4,
 "nbformat_minor": 2
}
